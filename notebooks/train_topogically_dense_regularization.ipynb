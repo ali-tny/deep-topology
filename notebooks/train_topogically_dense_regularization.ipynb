{
 "cells": [
  {
   "cell_type": "code",
   "execution_count": 1,
   "metadata": {},
   "outputs": [],
   "source": [
    "import tensorflow as tf\n",
    "import matplotlib.pyplot as plt\n",
    "\n",
    "from deep_topology import layers, data"
   ]
  },
  {
   "cell_type": "code",
   "execution_count": 3,
   "metadata": {},
   "outputs": [],
   "source": [
    "generator, steps_per_epoch = data.get_ordered_mnist_generator()"
   ]
  },
  {
   "cell_type": "markdown",
   "metadata": {},
   "source": [
    "## Numpy version"
   ]
  },
  {
   "cell_type": "code",
   "execution_count": 5,
   "metadata": {},
   "outputs": [],
   "source": [
    "num_classes = 10\n",
    "inner_batch_size = 8\n",
    "lambda_ = 1\n",
    "\n",
    "inp = tf.keras.Input(shape=(28, 28, 1))\n",
    "y_true = tf.keras.Input(shape=(1,))\n",
    "\n",
    "feats = inp\n",
    "for n_filters in [8, 32, 64, 128]:\n",
    "    feats = tf.keras.layers.Conv2D(n_filters, 3, padding=\"same\")(feats)\n",
    "    feats = tf.keras.layers.LeakyReLU(alpha=0.1)(feats)\n",
    "    feats = tf.keras.layers.MaxPool2D((2, 2), 2)(feats)\n",
    "feats = tf.keras.layers.Flatten()(feats)\n",
    "\n",
    "topo_reg = layers.TopologicallyDenseRegularization(\n",
    "    beta=0.2, inner_batch_size=inner_batch_size, num_classes=num_classes\n",
    ")(feats)\n",
    "\n",
    "out = tf.keras.layers.Dense(num_classes)(feats)\n",
    "\n",
    "\n",
    "def regularized_mse(y_true, out, reg, lambda_):\n",
    "    return tf.losses.mean_squared_error(y_true, out) + lambda_ * reg\n",
    "\n",
    "\n",
    "loss = tf.keras.layers.Lambda(\n",
    "    lambda x, lambda_: regularized_mse(x[0], x[1], x[2], lambda_=lambda_), arguments={\"lambda_\": lambda_}\n",
    ")([y_true, out, topo_reg])\n",
    "\n",
    "model = tf.keras.Model([inp, y_true], loss)\n",
    "model.compile(optimizer=\"adam\", loss=\"mse\")"
   ]
  },
  {
   "cell_type": "code",
   "execution_count": 6,
   "metadata": {},
   "outputs": [
    {
     "name": "stdout",
     "output_type": "stream",
     "text": [
      "677/677 [==============================] - 34s 51ms/step - loss: 30.8189\n"
     ]
    },
    {
     "data": {
      "text/plain": [
       "<tensorflow.python.keras.callbacks.History at 0x13a9aecd0>"
      ]
     },
     "execution_count": 6,
     "metadata": {},
     "output_type": "execute_result"
    }
   ],
   "source": [
    "model.fit(generator, epochs=1, steps_per_epoch=steps_per_epoch, shuffle=False)"
   ]
  },
  {
   "cell_type": "markdown",
   "metadata": {},
   "source": [
    "## Pure tensorflow version"
   ]
  },
  {
   "cell_type": "code",
   "execution_count": 7,
   "metadata": {},
   "outputs": [],
   "source": [
    "num_classes = 10\n",
    "inner_batch_size = 8\n",
    "lambda_ = 1\n",
    "\n",
    "inp = tf.keras.Input(shape=(28, 28, 1), batch_size=80)\n",
    "y_true = tf.keras.Input(shape=(1,), batch_size=80)\n",
    "\n",
    "feats = inp\n",
    "for n_filters in [8, 32, 64, 128]:\n",
    "    feats = tf.keras.layers.Conv2D(n_filters, 3, padding=\"same\")(feats)\n",
    "    feats = tf.keras.layers.LeakyReLU(alpha=0.1)(feats)\n",
    "    feats = tf.keras.layers.MaxPool2D((2, 2), 2)(feats)\n",
    "feats = tf.keras.layers.Flatten()(feats)\n",
    "\n",
    "topo_reg = layers.TopologicallyDenseRegularization(\n",
    "    beta=0.2, inner_batch_size=inner_batch_size, num_classes=num_classes, numpy=False\n",
    ")(feats)\n",
    "\n",
    "out = tf.keras.layers.Dense(num_classes)(feats)\n",
    "\n",
    "\n",
    "def regularized_mse(y_true, out, reg, lambda_):\n",
    "    return tf.losses.mean_squared_error(y_true, out) + lambda_ * reg\n",
    "\n",
    "\n",
    "loss = tf.keras.layers.Lambda(\n",
    "    lambda x, lambda_: regularized_mse(x[0], x[1], x[2], lambda_=lambda_), arguments={\"lambda_\": lambda_}\n",
    ")([y_true, out, topo_reg])\n",
    "\n",
    "model = tf.keras.Model([inp, y_true], loss)\n",
    "model.compile(optimizer=\"adam\", loss=\"mse\")"
   ]
  },
  {
   "cell_type": "code",
   "execution_count": 8,
   "metadata": {},
   "outputs": [
    {
     "name": "stdout",
     "output_type": "stream",
     "text": [
      "677/677 [==============================] - 75s 111ms/step - loss: 32.5928\n"
     ]
    },
    {
     "data": {
      "text/plain": [
       "<tensorflow.python.keras.callbacks.History at 0x12c86f5d0>"
      ]
     },
     "execution_count": 8,
     "metadata": {},
     "output_type": "execute_result"
    }
   ],
   "source": [
    "model.fit(generator, epochs=1, steps_per_epoch=steps_per_epoch, shuffle=False)"
   ]
  }
 ],
 "metadata": {
  "kernelspec": {
   "display_name": "Python 3",
   "language": "python",
   "name": "python3"
  },
  "language_info": {
   "codemirror_mode": {
    "name": "ipython",
    "version": 3
   },
   "file_extension": ".py",
   "mimetype": "text/x-python",
   "name": "python",
   "nbconvert_exporter": "python",
   "pygments_lexer": "ipython3",
   "version": "3.7.7"
  }
 },
 "nbformat": 4,
 "nbformat_minor": 4
}
